{
 "cells": [
  {
   "cell_type": "markdown",
   "metadata": {},
   "source": [
    "### 顺序表一"
   ]
  },
  {
   "cell_type": "code",
   "execution_count": 1,
   "metadata": {},
   "outputs": [
    {
     "name": "stdout",
     "output_type": "stream",
     "text": [
      "顺序表A： [1, 2, 3, 5, 6]\n",
      "顺序表B： [2, 4, 7, 8, 9, 0]\n",
      "顺序表C： [1, 2, 2, 3, 4, 5, 6, 7, 8, 9, 0]\n"
     ]
    }
   ],
   "source": [
    "def merge(A, B):\n",
    "    C = []\n",
    "    i, j = 0, 0\n",
    "    \n",
    "    while i < len(A) and j < len(B):\n",
    "        if A[i] < B[j]:\n",
    "            C.append(A[i])\n",
    "            i += 1\n",
    "        else:\n",
    "            C.append(B[j])\n",
    "            j += 1\n",
    "            \n",
    "    while i < len(A):\n",
    "        C.append(A[i])\n",
    "        i += 1\n",
    "        \n",
    "    while j < len(B):\n",
    "        C.append(B[j])\n",
    "        j += 1\n",
    "        \n",
    "    return C\n",
    "\n",
    "# 从键盘输入两个顺序表A和B\n",
    "A = list(map(int, input(\"输入顺序表A的元素（以空格分隔）：\").split()))\n",
    "B = list(map(int, input(\"输入顺序表B的元素（以空格分隔）：\").split()))\n",
    "\n",
    "# 合并顺序表A和B\n",
    "C = merge(A, B)\n",
    "\n",
    "# 输出结果\n",
    "print(\"顺序表A：\", A)\n",
    "print(\"顺序表B：\", B)\n",
    "print(\"顺序表C：\", C)\n"
   ]
  }
 ],
 "metadata": {
  "kernelspec": {
   "display_name": "Python 3",
   "language": "python",
   "name": "python3"
  },
  "language_info": {
   "codemirror_mode": {
    "name": "ipython",
    "version": 3
   },
   "file_extension": ".py",
   "mimetype": "text/x-python",
   "name": "python",
   "nbconvert_exporter": "python",
   "pygments_lexer": "ipython3",
   "version": "3.11.7"
  }
 },
 "nbformat": 4,
 "nbformat_minor": 2
}
