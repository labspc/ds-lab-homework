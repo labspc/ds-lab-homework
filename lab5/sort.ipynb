{
 "cells": [
  {
   "cell_type": "markdown",
   "metadata": {},
   "source": [
    "# 第9章 排序\n"
   ]
  },
  {
   "cell_type": "markdown",
   "metadata": {},
   "source": [
    "## 1 希尔排序 shell sort\n"
   ]
  },
  {
   "cell_type": "code",
   "execution_count": 13,
   "metadata": {},
   "outputs": [],
   "source": [
    "def shell_sort(arr):\n",
    "    # 获取数组的长度\n",
    "    n = len(arr)\n",
    "\n",
    "    # 初始的间隔（gap）为数组长度的一半\n",
    "    gap = n // 2\n",
    "\n",
    "    # 只要间隔（gap）大于0，就继续排序\n",
    "    while gap > 0:\n",
    "        # 从间隔（gap）开始，到数组结束\n",
    "        for i in range(gap, n):\n",
    "            # 暂存当前元素\n",
    "            temp = arr[i]\n",
    "            j = i\n",
    "\n",
    "            # 插入排序的内部循环\n",
    "            # 如果当前元素小于前面的元素，就进行交换\n",
    "            while j >= gap and arr[j - gap] > temp:\n",
    "                arr[j] = arr[j - gap]\n",
    "                j -= gap\n",
    "\n",
    "            # 将暂存的元素放到正确的位置\n",
    "            arr[j] = temp\n",
    "\n",
    "        # 缩小间隔（gap）\n",
    "        gap //= 2\n",
    "\n",
    "    # 返回排序后的数组\n",
    "    return arr\n",
    "\n"
   ]
  },
  {
   "cell_type": "markdown",
   "metadata": {},
   "source": [
    "## 2 直接选择排序 selection sort\n"
   ]
  },
  {
   "cell_type": "markdown",
   "metadata": {},
   "source": [
    "## 3 快速排序 quick sort\n",
    "\n"
   ]
  },
  {
   "cell_type": "markdown",
   "metadata": {},
   "source": [
    "## 4 运行\n",
    "\n",
    "分别运行上述不同的 Cell，而后再运行下面主程序的 Cell。\n"
   ]
  },
  {
   "cell_type": "code",
   "execution_count": 14,
   "metadata": {},
   "outputs": [
    {
     "name": "stdout",
     "output_type": "stream",
     "text": [
      "希尔排序结果: [11, 12, 15, 17, 28, 35, 41, 58, 75, 81, 94, 95, 96]\n"
     ]
    }
   ],
   "source": [
    "\n",
    "# 关键字序列\n",
    "keywords = [81, 94, 11, 96, 12, 35, 17, 95, 28, 58, 41, 75, 15]\n",
    "\n",
    "# 希尔排序\n",
    "sorted_keywords_shell = shell_sort(keywords.copy())\n",
    "print(\"希尔排序结果:\", sorted_keywords_shell)\n",
    "\n",
    "\n"
   ]
  }
 ],
 "metadata": {
  "kernelspec": {
   "display_name": "Python 3",
   "language": "python",
   "name": "python3"
  },
  "language_info": {
   "codemirror_mode": {
    "name": "ipython",
    "version": 3
   },
   "file_extension": ".py",
   "mimetype": "text/x-python",
   "name": "python",
   "nbconvert_exporter": "python",
   "pygments_lexer": "ipython3",
   "version": "3.11.7"
  }
 },
 "nbformat": 4,
 "nbformat_minor": 2
}
